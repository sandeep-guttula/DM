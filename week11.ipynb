{
  "nbformat": 4,
  "nbformat_minor": 0,
  "metadata": {
    "colab": {
      "provenance": []
    },
    "kernelspec": {
      "name": "python3",
      "display_name": "Python 3"
    },
    "language_info": {
      "name": "python"
    }
  },
  "cells": [
    {
      "cell_type": "code",
      "execution_count": null,
      "metadata": {
        "colab": {
          "base_uri": "https://localhost:8080/"
        },
        "id": "sxJ1hVm8v7vk",
        "outputId": "f9c73fb1-8b57-4b82-a6f8-6c7c0b567328"
      },
      "outputs": [
        {
          "output_type": "stream",
          "name": "stdout",
          "text": [
            "Looking in indexes: https://pypi.org/simple, https://us-python.pkg.dev/colab-wheels/public/simple/\n",
            "Collecting pyfpgrowth\n",
            "  Downloading pyfpgrowth-1.0.tar.gz (1.6 MB)\n",
            "\u001b[?25l\r\u001b[K     |▏                               | 10 kB 22.6 MB/s eta 0:00:01\r\u001b[K     |▍                               | 20 kB 29.0 MB/s eta 0:00:01\r\u001b[K     |▋                               | 30 kB 32.6 MB/s eta 0:00:01\r\u001b[K     |▉                               | 40 kB 37.6 MB/s eta 0:00:01\r\u001b[K     |█                               | 51 kB 42.3 MB/s eta 0:00:01\r\u001b[K     |█▏                              | 61 kB 47.0 MB/s eta 0:00:01\r\u001b[K     |█▍                              | 71 kB 35.7 MB/s eta 0:00:01\r\u001b[K     |█▋                              | 81 kB 37.5 MB/s eta 0:00:01\r\u001b[K     |█▉                              | 92 kB 39.8 MB/s eta 0:00:01\r\u001b[K     |██                              | 102 kB 41.9 MB/s eta 0:00:01\r\u001b[K     |██▏                             | 112 kB 41.9 MB/s eta 0:00:01\r\u001b[K     |██▍                             | 122 kB 41.9 MB/s eta 0:00:01\r\u001b[K     |██▋                             | 133 kB 41.9 MB/s eta 0:00:01\r\u001b[K     |██▉                             | 143 kB 41.9 MB/s eta 0:00:01\r\u001b[K     |███                             | 153 kB 41.9 MB/s eta 0:00:01\r\u001b[K     |███▏                            | 163 kB 41.9 MB/s eta 0:00:01\r\u001b[K     |███▍                            | 174 kB 41.9 MB/s eta 0:00:01\r\u001b[K     |███▋                            | 184 kB 41.9 MB/s eta 0:00:01\r\u001b[K     |███▉                            | 194 kB 41.9 MB/s eta 0:00:01\r\u001b[K     |████                            | 204 kB 41.9 MB/s eta 0:00:01\r\u001b[K     |████▏                           | 215 kB 41.9 MB/s eta 0:00:01\r\u001b[K     |████▍                           | 225 kB 41.9 MB/s eta 0:00:01\r\u001b[K     |████▋                           | 235 kB 41.9 MB/s eta 0:00:01\r\u001b[K     |████▉                           | 245 kB 41.9 MB/s eta 0:00:01\r\u001b[K     |█████                           | 256 kB 41.9 MB/s eta 0:00:01\r\u001b[K     |█████▏                          | 266 kB 41.9 MB/s eta 0:00:01\r\u001b[K     |█████▍                          | 276 kB 41.9 MB/s eta 0:00:01\r\u001b[K     |█████▋                          | 286 kB 41.9 MB/s eta 0:00:01\r\u001b[K     |█████▉                          | 296 kB 41.9 MB/s eta 0:00:01\r\u001b[K     |██████                          | 307 kB 41.9 MB/s eta 0:00:01\r\u001b[K     |██████▏                         | 317 kB 41.9 MB/s eta 0:00:01\r\u001b[K     |██████▍                         | 327 kB 41.9 MB/s eta 0:00:01\r\u001b[K     |██████▋                         | 337 kB 41.9 MB/s eta 0:00:01\r\u001b[K     |██████▉                         | 348 kB 41.9 MB/s eta 0:00:01\r\u001b[K     |███████                         | 358 kB 41.9 MB/s eta 0:00:01\r\u001b[K     |███████▏                        | 368 kB 41.9 MB/s eta 0:00:01\r\u001b[K     |███████▍                        | 378 kB 41.9 MB/s eta 0:00:01\r\u001b[K     |███████▋                        | 389 kB 41.9 MB/s eta 0:00:01\r\u001b[K     |███████▉                        | 399 kB 41.9 MB/s eta 0:00:01\r\u001b[K     |████████                        | 409 kB 41.9 MB/s eta 0:00:01\r\u001b[K     |████████▏                       | 419 kB 41.9 MB/s eta 0:00:01\r\u001b[K     |████████▍                       | 430 kB 41.9 MB/s eta 0:00:01\r\u001b[K     |████████▋                       | 440 kB 41.9 MB/s eta 0:00:01\r\u001b[K     |████████▉                       | 450 kB 41.9 MB/s eta 0:00:01\r\u001b[K     |█████████                       | 460 kB 41.9 MB/s eta 0:00:01\r\u001b[K     |█████████▏                      | 471 kB 41.9 MB/s eta 0:00:01\r\u001b[K     |█████████▍                      | 481 kB 41.9 MB/s eta 0:00:01\r\u001b[K     |█████████▋                      | 491 kB 41.9 MB/s eta 0:00:01\r\u001b[K     |█████████▉                      | 501 kB 41.9 MB/s eta 0:00:01\r\u001b[K     |██████████                      | 512 kB 41.9 MB/s eta 0:00:01\r\u001b[K     |██████████▏                     | 522 kB 41.9 MB/s eta 0:00:01\r\u001b[K     |██████████▍                     | 532 kB 41.9 MB/s eta 0:00:01\r\u001b[K     |██████████▋                     | 542 kB 41.9 MB/s eta 0:00:01\r\u001b[K     |██████████▉                     | 552 kB 41.9 MB/s eta 0:00:01\r\u001b[K     |███████████                     | 563 kB 41.9 MB/s eta 0:00:01\r\u001b[K     |███████████▏                    | 573 kB 41.9 MB/s eta 0:00:01\r\u001b[K     |███████████▍                    | 583 kB 41.9 MB/s eta 0:00:01\r\u001b[K     |███████████▋                    | 593 kB 41.9 MB/s eta 0:00:01\r\u001b[K     |███████████▉                    | 604 kB 41.9 MB/s eta 0:00:01\r\u001b[K     |████████████                    | 614 kB 41.9 MB/s eta 0:00:01\r\u001b[K     |████████████▏                   | 624 kB 41.9 MB/s eta 0:00:01\r\u001b[K     |████████████▍                   | 634 kB 41.9 MB/s eta 0:00:01\r\u001b[K     |████████████▋                   | 645 kB 41.9 MB/s eta 0:00:01\r\u001b[K     |████████████▊                   | 655 kB 41.9 MB/s eta 0:00:01\r\u001b[K     |█████████████                   | 665 kB 41.9 MB/s eta 0:00:01\r\u001b[K     |█████████████▏                  | 675 kB 41.9 MB/s eta 0:00:01\r\u001b[K     |█████████████▍                  | 686 kB 41.9 MB/s eta 0:00:01\r\u001b[K     |█████████████▋                  | 696 kB 41.9 MB/s eta 0:00:01\r\u001b[K     |█████████████▊                  | 706 kB 41.9 MB/s eta 0:00:01\r\u001b[K     |██████████████                  | 716 kB 41.9 MB/s eta 0:00:01\r\u001b[K     |██████████████▏                 | 727 kB 41.9 MB/s eta 0:00:01\r\u001b[K     |██████████████▍                 | 737 kB 41.9 MB/s eta 0:00:01\r\u001b[K     |██████████████▋                 | 747 kB 41.9 MB/s eta 0:00:01\r\u001b[K     |██████████████▊                 | 757 kB 41.9 MB/s eta 0:00:01\r\u001b[K     |███████████████                 | 768 kB 41.9 MB/s eta 0:00:01\r\u001b[K     |███████████████▏                | 778 kB 41.9 MB/s eta 0:00:01\r\u001b[K     |███████████████▍                | 788 kB 41.9 MB/s eta 0:00:01\r\u001b[K     |███████████████▋                | 798 kB 41.9 MB/s eta 0:00:01\r\u001b[K     |███████████████▊                | 808 kB 41.9 MB/s eta 0:00:01\r\u001b[K     |████████████████                | 819 kB 41.9 MB/s eta 0:00:01\r\u001b[K     |████████████████▏               | 829 kB 41.9 MB/s eta 0:00:01\r\u001b[K     |████████████████▍               | 839 kB 41.9 MB/s eta 0:00:01\r\u001b[K     |████████████████▋               | 849 kB 41.9 MB/s eta 0:00:01\r\u001b[K     |████████████████▊               | 860 kB 41.9 MB/s eta 0:00:01\r\u001b[K     |█████████████████               | 870 kB 41.9 MB/s eta 0:00:01\r\u001b[K     |█████████████████▏              | 880 kB 41.9 MB/s eta 0:00:01\r\u001b[K     |█████████████████▍              | 890 kB 41.9 MB/s eta 0:00:01\r\u001b[K     |█████████████████▋              | 901 kB 41.9 MB/s eta 0:00:01\r\u001b[K     |█████████████████▊              | 911 kB 41.9 MB/s eta 0:00:01\r\u001b[K     |██████████████████              | 921 kB 41.9 MB/s eta 0:00:01\r\u001b[K     |██████████████████▏             | 931 kB 41.9 MB/s eta 0:00:01\r\u001b[K     |██████████████████▍             | 942 kB 41.9 MB/s eta 0:00:01\r\u001b[K     |██████████████████▋             | 952 kB 41.9 MB/s eta 0:00:01\r\u001b[K     |██████████████████▊             | 962 kB 41.9 MB/s eta 0:00:01\r\u001b[K     |███████████████████             | 972 kB 41.9 MB/s eta 0:00:01\r\u001b[K     |███████████████████▏            | 983 kB 41.9 MB/s eta 0:00:01\r\u001b[K     |███████████████████▍            | 993 kB 41.9 MB/s eta 0:00:01\r\u001b[K     |███████████████████▋            | 1.0 MB 41.9 MB/s eta 0:00:01\r\u001b[K     |███████████████████▊            | 1.0 MB 41.9 MB/s eta 0:00:01\r\u001b[K     |████████████████████            | 1.0 MB 41.9 MB/s eta 0:00:01\r\u001b[K     |████████████████████▏           | 1.0 MB 41.9 MB/s eta 0:00:01\r\u001b[K     |████████████████████▍           | 1.0 MB 41.9 MB/s eta 0:00:01\r\u001b[K     |████████████████████▋           | 1.1 MB 41.9 MB/s eta 0:00:01\r\u001b[K     |████████████████████▊           | 1.1 MB 41.9 MB/s eta 0:00:01\r\u001b[K     |█████████████████████           | 1.1 MB 41.9 MB/s eta 0:00:01\r\u001b[K     |█████████████████████▏          | 1.1 MB 41.9 MB/s eta 0:00:01\r\u001b[K     |█████████████████████▍          | 1.1 MB 41.9 MB/s eta 0:00:01\r\u001b[K     |█████████████████████▋          | 1.1 MB 41.9 MB/s eta 0:00:01\r\u001b[K     |█████████████████████▊          | 1.1 MB 41.9 MB/s eta 0:00:01\r\u001b[K     |██████████████████████          | 1.1 MB 41.9 MB/s eta 0:00:01\r\u001b[K     |██████████████████████▏         | 1.1 MB 41.9 MB/s eta 0:00:01\r\u001b[K     |██████████████████████▍         | 1.1 MB 41.9 MB/s eta 0:00:01\r\u001b[K     |██████████████████████▋         | 1.2 MB 41.9 MB/s eta 0:00:01\r\u001b[K     |██████████████████████▊         | 1.2 MB 41.9 MB/s eta 0:00:01\r\u001b[K     |███████████████████████         | 1.2 MB 41.9 MB/s eta 0:00:01\r\u001b[K     |███████████████████████▏        | 1.2 MB 41.9 MB/s eta 0:00:01\r\u001b[K     |███████████████████████▍        | 1.2 MB 41.9 MB/s eta 0:00:01\r\u001b[K     |███████████████████████▋        | 1.2 MB 41.9 MB/s eta 0:00:01\r\u001b[K     |███████████████████████▊        | 1.2 MB 41.9 MB/s eta 0:00:01\r\u001b[K     |████████████████████████        | 1.2 MB 41.9 MB/s eta 0:00:01\r\u001b[K     |████████████████████████▏       | 1.2 MB 41.9 MB/s eta 0:00:01\r\u001b[K     |████████████████████████▍       | 1.2 MB 41.9 MB/s eta 0:00:01\r\u001b[K     |████████████████████████▌       | 1.3 MB 41.9 MB/s eta 0:00:01\r\u001b[K     |████████████████████████▊       | 1.3 MB 41.9 MB/s eta 0:00:01\r\u001b[K     |█████████████████████████       | 1.3 MB 41.9 MB/s eta 0:00:01\r\u001b[K     |█████████████████████████▏      | 1.3 MB 41.9 MB/s eta 0:00:01\r\u001b[K     |█████████████████████████▍      | 1.3 MB 41.9 MB/s eta 0:00:01\r\u001b[K     |█████████████████████████▌      | 1.3 MB 41.9 MB/s eta 0:00:01\r\u001b[K     |█████████████████████████▊      | 1.3 MB 41.9 MB/s eta 0:00:01\r\u001b[K     |██████████████████████████      | 1.3 MB 41.9 MB/s eta 0:00:01\r\u001b[K     |██████████████████████████▏     | 1.3 MB 41.9 MB/s eta 0:00:01\r\u001b[K     |██████████████████████████▍     | 1.4 MB 41.9 MB/s eta 0:00:01\r\u001b[K     |██████████████████████████▌     | 1.4 MB 41.9 MB/s eta 0:00:01\r\u001b[K     |██████████████████████████▊     | 1.4 MB 41.9 MB/s eta 0:00:01\r\u001b[K     |███████████████████████████     | 1.4 MB 41.9 MB/s eta 0:00:01\r\u001b[K     |███████████████████████████▏    | 1.4 MB 41.9 MB/s eta 0:00:01\r\u001b[K     |███████████████████████████▍    | 1.4 MB 41.9 MB/s eta 0:00:01\r\u001b[K     |███████████████████████████▌    | 1.4 MB 41.9 MB/s eta 0:00:01\r\u001b[K     |███████████████████████████▊    | 1.4 MB 41.9 MB/s eta 0:00:01\r\u001b[K     |████████████████████████████    | 1.4 MB 41.9 MB/s eta 0:00:01\r\u001b[K     |████████████████████████████▏   | 1.4 MB 41.9 MB/s eta 0:00:01\r\u001b[K     |████████████████████████████▍   | 1.5 MB 41.9 MB/s eta 0:00:01\r\u001b[K     |████████████████████████████▌   | 1.5 MB 41.9 MB/s eta 0:00:01\r\u001b[K     |████████████████████████████▊   | 1.5 MB 41.9 MB/s eta 0:00:01\r\u001b[K     |█████████████████████████████   | 1.5 MB 41.9 MB/s eta 0:00:01\r\u001b[K     |█████████████████████████████▏  | 1.5 MB 41.9 MB/s eta 0:00:01\r\u001b[K     |█████████████████████████████▍  | 1.5 MB 41.9 MB/s eta 0:00:01\r\u001b[K     |█████████████████████████████▌  | 1.5 MB 41.9 MB/s eta 0:00:01\r\u001b[K     |█████████████████████████████▊  | 1.5 MB 41.9 MB/s eta 0:00:01\r\u001b[K     |██████████████████████████████  | 1.5 MB 41.9 MB/s eta 0:00:01\r\u001b[K     |██████████████████████████████▏ | 1.5 MB 41.9 MB/s eta 0:00:01\r\u001b[K     |██████████████████████████████▍ | 1.6 MB 41.9 MB/s eta 0:00:01\r\u001b[K     |██████████████████████████████▌ | 1.6 MB 41.9 MB/s eta 0:00:01\r\u001b[K     |██████████████████████████████▊ | 1.6 MB 41.9 MB/s eta 0:00:01\r\u001b[K     |███████████████████████████████ | 1.6 MB 41.9 MB/s eta 0:00:01\r\u001b[K     |███████████████████████████████▏| 1.6 MB 41.9 MB/s eta 0:00:01\r\u001b[K     |███████████████████████████████▍| 1.6 MB 41.9 MB/s eta 0:00:01\r\u001b[K     |███████████████████████████████▌| 1.6 MB 41.9 MB/s eta 0:00:01\r\u001b[K     |███████████████████████████████▊| 1.6 MB 41.9 MB/s eta 0:00:01\r\u001b[K     |████████████████████████████████| 1.6 MB 41.9 MB/s eta 0:00:01\r\u001b[K     |████████████████████████████████| 1.6 MB 41.9 MB/s \n",
            "\u001b[?25hBuilding wheels for collected packages: pyfpgrowth\n",
            "  Building wheel for pyfpgrowth (setup.py) ... \u001b[?25l\u001b[?25hdone\n",
            "  Created wheel for pyfpgrowth: filename=pyfpgrowth-1.0-py2.py3-none-any.whl size=5505 sha256=94d2250a748b54a17c96c9d6eb2f283af664338807fe679f5106a04f226c526e\n",
            "  Stored in directory: /root/.cache/pip/wheels/73/97/4b/f12ac994f6bbb99597396255435824c73ad3916be1e678be55\n",
            "Successfully built pyfpgrowth\n",
            "Installing collected packages: pyfpgrowth\n",
            "Successfully installed pyfpgrowth-1.0\n"
          ]
        }
      ],
      "source": [
        "pip install pyfpgrowth"
      ]
    },
    {
      "cell_type": "code",
      "source": [
        "import pyfpgrowth"
      ],
      "metadata": {
        "id": "GWUFr_duwu2h"
      },
      "execution_count": null,
      "outputs": []
    },
    {
      "cell_type": "code",
      "source": [
        "transactions=[[\"milk\",\"bread\",\"coffee\"],[\"coffee\",\"Boost\"]]\n",
        "freqPatterns = pyfpgrowth.find_frequent_patterns(transactions=transactions,support_threshold=0.5)\n",
        "print(freqPatterns)"
      ],
      "metadata": {
        "id": "_OC-ct6YxDLO",
        "colab": {
          "base_uri": "https://localhost:8080/"
        },
        "outputId": "2376b447-e7e4-4509-89fc-b152ed068177"
      },
      "execution_count": null,
      "outputs": [
        {
          "output_type": "stream",
          "name": "stdout",
          "text": [
            "{('milk',): 1, ('coffee', 'milk'): 1, ('bread',): 1, ('bread', 'milk'): 1, ('bread', 'coffee'): 1, ('bread', 'coffee', 'milk'): 1, ('Boost',): 1, ('Boost', 'coffee'): 1, ('coffee',): 2}\n"
          ]
        }
      ]
    },
    {
      "cell_type": "code",
      "source": [
        "rules = pyfpgrowth.generate_association_rules(patterns=freqPatterns,confidence_threshold=0.5)"
      ],
      "metadata": {
        "id": "WfbLF2rELCDg"
      },
      "execution_count": null,
      "outputs": []
    },
    {
      "cell_type": "code",
      "source": [
        "print(rules)"
      ],
      "metadata": {
        "id": "1h9_yZ18LPRk",
        "outputId": "ea6cff45-6c9c-4bc0-e3ea-860fb348e309",
        "colab": {
          "base_uri": "https://localhost:8080/"
        }
      },
      "execution_count": null,
      "outputs": [
        {
          "output_type": "stream",
          "name": "stdout",
          "text": [
            "{('coffee',): (('Boost',), 0.5), ('milk',): (('bread', 'coffee'), 1.0), ('bread',): (('coffee', 'milk'), 1.0), ('bread', 'coffee'): (('milk',), 1.0), ('bread', 'milk'): (('coffee',), 1.0), ('coffee', 'milk'): (('bread',), 1.0), ('Boost',): (('coffee',), 1.0)}\n"
          ]
        }
      ]
    }
  ]
}